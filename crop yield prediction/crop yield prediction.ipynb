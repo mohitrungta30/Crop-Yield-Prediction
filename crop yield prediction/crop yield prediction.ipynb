{
 "cells": [
  {
   "cell_type": "code",
   "execution_count": 3,
   "id": "c402acff",
   "metadata": {},
   "outputs": [],
   "source": [
    "%matplotlib inline\n",
    "import pandas as pd\n",
    "import numpy as np\n",
    "import seaborn as sns\n",
    "import matplotlib.pyplot as plt"
   ]
  },
  {
   "cell_type": "code",
   "execution_count": 4,
   "id": "7fba5c5e",
   "metadata": {},
   "outputs": [],
   "source": [
    "yield_data = pd.read_csv(\"yield_df.csv\")"
   ]
  },
  {
   "cell_type": "code",
   "execution_count": 5,
   "id": "c6fafa72",
   "metadata": {
    "scrolled": true
   },
   "outputs": [
    {
     "name": "stdout",
     "output_type": "stream",
     "text": [
      "<class 'pandas.core.frame.DataFrame'>\n",
      "RangeIndex: 28242 entries, 0 to 28241\n",
      "Data columns (total 8 columns):\n",
      " #   Column                         Non-Null Count  Dtype  \n",
      "---  ------                         --------------  -----  \n",
      " 0   label                          28242 non-null  int64  \n",
      " 1   Area                           28242 non-null  object \n",
      " 2   Item                           28242 non-null  object \n",
      " 3   Year                           28242 non-null  int64  \n",
      " 4   hg/ha_yield                    28242 non-null  int64  \n",
      " 5   average_rain_fall_mm_per_year  28242 non-null  float64\n",
      " 6   pesticides_tonnes              28242 non-null  float64\n",
      " 7   avg_temp                       28242 non-null  float64\n",
      "dtypes: float64(3), int64(3), object(2)\n",
      "memory usage: 1.7+ MB\n"
     ]
    }
   ],
   "source": [
    "yield_data.info()"
   ]
  },
  {
   "cell_type": "code",
   "execution_count": 6,
   "id": "7941adcc",
   "metadata": {},
   "outputs": [],
   "source": [
    "yield_data = yield_data.drop(['label'],axis=1)"
   ]
  },
  {
   "cell_type": "code",
   "execution_count": 7,
   "id": "85b2c52b",
   "metadata": {},
   "outputs": [
    {
     "data": {
      "text/html": [
       "<div>\n",
       "<style scoped>\n",
       "    .dataframe tbody tr th:only-of-type {\n",
       "        vertical-align: middle;\n",
       "    }\n",
       "\n",
       "    .dataframe tbody tr th {\n",
       "        vertical-align: top;\n",
       "    }\n",
       "\n",
       "    .dataframe thead th {\n",
       "        text-align: right;\n",
       "    }\n",
       "</style>\n",
       "<table border=\"1\" class=\"dataframe\">\n",
       "  <thead>\n",
       "    <tr style=\"text-align: right;\">\n",
       "      <th></th>\n",
       "      <th>Area</th>\n",
       "      <th>Item</th>\n",
       "      <th>Year</th>\n",
       "      <th>hg/ha_yield</th>\n",
       "      <th>average_rain_fall_mm_per_year</th>\n",
       "      <th>pesticides_tonnes</th>\n",
       "      <th>avg_temp</th>\n",
       "    </tr>\n",
       "  </thead>\n",
       "  <tbody>\n",
       "    <tr>\n",
       "      <th>0</th>\n",
       "      <td>Albania</td>\n",
       "      <td>Maize</td>\n",
       "      <td>1990</td>\n",
       "      <td>36613</td>\n",
       "      <td>1485.0</td>\n",
       "      <td>121.0</td>\n",
       "      <td>16.37</td>\n",
       "    </tr>\n",
       "    <tr>\n",
       "      <th>1</th>\n",
       "      <td>Albania</td>\n",
       "      <td>Potatoes</td>\n",
       "      <td>1990</td>\n",
       "      <td>66667</td>\n",
       "      <td>1485.0</td>\n",
       "      <td>121.0</td>\n",
       "      <td>16.37</td>\n",
       "    </tr>\n",
       "    <tr>\n",
       "      <th>2</th>\n",
       "      <td>Albania</td>\n",
       "      <td>Rice, paddy</td>\n",
       "      <td>1990</td>\n",
       "      <td>23333</td>\n",
       "      <td>1485.0</td>\n",
       "      <td>121.0</td>\n",
       "      <td>16.37</td>\n",
       "    </tr>\n",
       "    <tr>\n",
       "      <th>3</th>\n",
       "      <td>Albania</td>\n",
       "      <td>Sorghum</td>\n",
       "      <td>1990</td>\n",
       "      <td>12500</td>\n",
       "      <td>1485.0</td>\n",
       "      <td>121.0</td>\n",
       "      <td>16.37</td>\n",
       "    </tr>\n",
       "    <tr>\n",
       "      <th>4</th>\n",
       "      <td>Albania</td>\n",
       "      <td>Soybeans</td>\n",
       "      <td>1990</td>\n",
       "      <td>7000</td>\n",
       "      <td>1485.0</td>\n",
       "      <td>121.0</td>\n",
       "      <td>16.37</td>\n",
       "    </tr>\n",
       "  </tbody>\n",
       "</table>\n",
       "</div>"
      ],
      "text/plain": [
       "      Area         Item  Year  hg/ha_yield  average_rain_fall_mm_per_year  \\\n",
       "0  Albania        Maize  1990        36613                         1485.0   \n",
       "1  Albania     Potatoes  1990        66667                         1485.0   \n",
       "2  Albania  Rice, paddy  1990        23333                         1485.0   \n",
       "3  Albania      Sorghum  1990        12500                         1485.0   \n",
       "4  Albania     Soybeans  1990         7000                         1485.0   \n",
       "\n",
       "   pesticides_tonnes  avg_temp  \n",
       "0              121.0     16.37  \n",
       "1              121.0     16.37  \n",
       "2              121.0     16.37  \n",
       "3              121.0     16.37  \n",
       "4              121.0     16.37  "
      ]
     },
     "execution_count": 7,
     "metadata": {},
     "output_type": "execute_result"
    }
   ],
   "source": [
    "yield_data.head()"
   ]
  },
  {
   "cell_type": "code",
   "execution_count": 8,
   "id": "65fc489b",
   "metadata": {},
   "outputs": [
    {
     "data": {
      "text/html": [
       "<div>\n",
       "<style scoped>\n",
       "    .dataframe tbody tr th:only-of-type {\n",
       "        vertical-align: middle;\n",
       "    }\n",
       "\n",
       "    .dataframe tbody tr th {\n",
       "        vertical-align: top;\n",
       "    }\n",
       "\n",
       "    .dataframe thead th {\n",
       "        text-align: right;\n",
       "    }\n",
       "</style>\n",
       "<table border=\"1\" class=\"dataframe\">\n",
       "  <thead>\n",
       "    <tr style=\"text-align: right;\">\n",
       "      <th></th>\n",
       "      <th>Year</th>\n",
       "      <th>hg/ha_yield</th>\n",
       "      <th>average_rain_fall_mm_per_year</th>\n",
       "      <th>pesticides_tonnes</th>\n",
       "      <th>avg_temp</th>\n",
       "    </tr>\n",
       "  </thead>\n",
       "  <tbody>\n",
       "    <tr>\n",
       "      <th>count</th>\n",
       "      <td>28242.000000</td>\n",
       "      <td>28242.000000</td>\n",
       "      <td>28242.00000</td>\n",
       "      <td>28242.000000</td>\n",
       "      <td>28242.000000</td>\n",
       "    </tr>\n",
       "    <tr>\n",
       "      <th>mean</th>\n",
       "      <td>2001.544296</td>\n",
       "      <td>77053.332094</td>\n",
       "      <td>1149.05598</td>\n",
       "      <td>37076.909344</td>\n",
       "      <td>20.542627</td>\n",
       "    </tr>\n",
       "    <tr>\n",
       "      <th>std</th>\n",
       "      <td>7.051905</td>\n",
       "      <td>84956.612897</td>\n",
       "      <td>709.81215</td>\n",
       "      <td>59958.784665</td>\n",
       "      <td>6.312051</td>\n",
       "    </tr>\n",
       "    <tr>\n",
       "      <th>min</th>\n",
       "      <td>1990.000000</td>\n",
       "      <td>50.000000</td>\n",
       "      <td>51.00000</td>\n",
       "      <td>0.040000</td>\n",
       "      <td>1.300000</td>\n",
       "    </tr>\n",
       "    <tr>\n",
       "      <th>25%</th>\n",
       "      <td>1995.000000</td>\n",
       "      <td>19919.250000</td>\n",
       "      <td>593.00000</td>\n",
       "      <td>1702.000000</td>\n",
       "      <td>16.702500</td>\n",
       "    </tr>\n",
       "    <tr>\n",
       "      <th>50%</th>\n",
       "      <td>2001.000000</td>\n",
       "      <td>38295.000000</td>\n",
       "      <td>1083.00000</td>\n",
       "      <td>17529.440000</td>\n",
       "      <td>21.510000</td>\n",
       "    </tr>\n",
       "    <tr>\n",
       "      <th>75%</th>\n",
       "      <td>2008.000000</td>\n",
       "      <td>104676.750000</td>\n",
       "      <td>1668.00000</td>\n",
       "      <td>48687.880000</td>\n",
       "      <td>26.000000</td>\n",
       "    </tr>\n",
       "    <tr>\n",
       "      <th>max</th>\n",
       "      <td>2013.000000</td>\n",
       "      <td>501412.000000</td>\n",
       "      <td>3240.00000</td>\n",
       "      <td>367778.000000</td>\n",
       "      <td>30.650000</td>\n",
       "    </tr>\n",
       "  </tbody>\n",
       "</table>\n",
       "</div>"
      ],
      "text/plain": [
       "               Year    hg/ha_yield  average_rain_fall_mm_per_year  \\\n",
       "count  28242.000000   28242.000000                    28242.00000   \n",
       "mean    2001.544296   77053.332094                     1149.05598   \n",
       "std        7.051905   84956.612897                      709.81215   \n",
       "min     1990.000000      50.000000                       51.00000   \n",
       "25%     1995.000000   19919.250000                      593.00000   \n",
       "50%     2001.000000   38295.000000                     1083.00000   \n",
       "75%     2008.000000  104676.750000                     1668.00000   \n",
       "max     2013.000000  501412.000000                     3240.00000   \n",
       "\n",
       "       pesticides_tonnes      avg_temp  \n",
       "count       28242.000000  28242.000000  \n",
       "mean        37076.909344     20.542627  \n",
       "std         59958.784665      6.312051  \n",
       "min             0.040000      1.300000  \n",
       "25%          1702.000000     16.702500  \n",
       "50%         17529.440000     21.510000  \n",
       "75%         48687.880000     26.000000  \n",
       "max        367778.000000     30.650000  "
      ]
     },
     "execution_count": 8,
     "metadata": {},
     "output_type": "execute_result"
    }
   ],
   "source": [
    "yield_data.describe()"
   ]
  },
  {
   "cell_type": "code",
   "execution_count": 9,
   "id": "f957d801",
   "metadata": {},
   "outputs": [],
   "source": [
    "yield_data = yield_data.rename(columns={'hg/ha_yield':'Yield'})"
   ]
  },
  {
   "cell_type": "code",
   "execution_count": 10,
   "id": "154bbb4a",
   "metadata": {},
   "outputs": [],
   "source": [
    "yield_data = yield_data.rename(columns={'avg_temp':'Temperature'})"
   ]
  },
  {
   "cell_type": "code",
   "execution_count": 11,
   "id": "9939bfd1",
   "metadata": {},
   "outputs": [],
   "source": [
    "yield_data = yield_data.rename(columns={'pesticides_tonnes':'Pesticides'})"
   ]
  },
  {
   "cell_type": "code",
   "execution_count": 12,
   "id": "95d4d050",
   "metadata": {},
   "outputs": [],
   "source": [
    "yield_data = yield_data.rename(columns={'average_rain_fall_mm_per_year':'Rainfall'})"
   ]
  },
  {
   "cell_type": "code",
   "execution_count": 13,
   "id": "a7eaba80",
   "metadata": {},
   "outputs": [
    {
     "data": {
      "text/html": [
       "<div>\n",
       "<style scoped>\n",
       "    .dataframe tbody tr th:only-of-type {\n",
       "        vertical-align: middle;\n",
       "    }\n",
       "\n",
       "    .dataframe tbody tr th {\n",
       "        vertical-align: top;\n",
       "    }\n",
       "\n",
       "    .dataframe thead th {\n",
       "        text-align: right;\n",
       "    }\n",
       "</style>\n",
       "<table border=\"1\" class=\"dataframe\">\n",
       "  <thead>\n",
       "    <tr style=\"text-align: right;\">\n",
       "      <th></th>\n",
       "      <th>Area</th>\n",
       "      <th>Item</th>\n",
       "      <th>Year</th>\n",
       "      <th>Yield</th>\n",
       "      <th>Rainfall</th>\n",
       "      <th>Pesticides</th>\n",
       "      <th>Temperature</th>\n",
       "    </tr>\n",
       "  </thead>\n",
       "  <tbody>\n",
       "    <tr>\n",
       "      <th>0</th>\n",
       "      <td>Albania</td>\n",
       "      <td>Maize</td>\n",
       "      <td>1990</td>\n",
       "      <td>36613</td>\n",
       "      <td>1485.0</td>\n",
       "      <td>121.0</td>\n",
       "      <td>16.37</td>\n",
       "    </tr>\n",
       "    <tr>\n",
       "      <th>1</th>\n",
       "      <td>Albania</td>\n",
       "      <td>Potatoes</td>\n",
       "      <td>1990</td>\n",
       "      <td>66667</td>\n",
       "      <td>1485.0</td>\n",
       "      <td>121.0</td>\n",
       "      <td>16.37</td>\n",
       "    </tr>\n",
       "    <tr>\n",
       "      <th>2</th>\n",
       "      <td>Albania</td>\n",
       "      <td>Rice, paddy</td>\n",
       "      <td>1990</td>\n",
       "      <td>23333</td>\n",
       "      <td>1485.0</td>\n",
       "      <td>121.0</td>\n",
       "      <td>16.37</td>\n",
       "    </tr>\n",
       "    <tr>\n",
       "      <th>3</th>\n",
       "      <td>Albania</td>\n",
       "      <td>Sorghum</td>\n",
       "      <td>1990</td>\n",
       "      <td>12500</td>\n",
       "      <td>1485.0</td>\n",
       "      <td>121.0</td>\n",
       "      <td>16.37</td>\n",
       "    </tr>\n",
       "    <tr>\n",
       "      <th>4</th>\n",
       "      <td>Albania</td>\n",
       "      <td>Soybeans</td>\n",
       "      <td>1990</td>\n",
       "      <td>7000</td>\n",
       "      <td>1485.0</td>\n",
       "      <td>121.0</td>\n",
       "      <td>16.37</td>\n",
       "    </tr>\n",
       "  </tbody>\n",
       "</table>\n",
       "</div>"
      ],
      "text/plain": [
       "      Area         Item  Year  Yield  Rainfall  Pesticides  Temperature\n",
       "0  Albania        Maize  1990  36613    1485.0       121.0        16.37\n",
       "1  Albania     Potatoes  1990  66667    1485.0       121.0        16.37\n",
       "2  Albania  Rice, paddy  1990  23333    1485.0       121.0        16.37\n",
       "3  Albania      Sorghum  1990  12500    1485.0       121.0        16.37\n",
       "4  Albania     Soybeans  1990   7000    1485.0       121.0        16.37"
      ]
     },
     "execution_count": 13,
     "metadata": {},
     "output_type": "execute_result"
    }
   ],
   "source": [
    "yield_data.head()"
   ]
  },
  {
   "cell_type": "code",
   "execution_count": 14,
   "id": "4c3b99b5",
   "metadata": {},
   "outputs": [
    {
     "data": {
      "text/html": [
       "<div>\n",
       "<style scoped>\n",
       "    .dataframe tbody tr th:only-of-type {\n",
       "        vertical-align: middle;\n",
       "    }\n",
       "\n",
       "    .dataframe tbody tr th {\n",
       "        vertical-align: top;\n",
       "    }\n",
       "\n",
       "    .dataframe thead th {\n",
       "        text-align: right;\n",
       "    }\n",
       "</style>\n",
       "<table border=\"1\" class=\"dataframe\">\n",
       "  <thead>\n",
       "    <tr style=\"text-align: right;\">\n",
       "      <th></th>\n",
       "      <th>Year</th>\n",
       "      <th>Rainfall</th>\n",
       "      <th>Pesticides</th>\n",
       "      <th>Temperature</th>\n",
       "      <th>Area_Albania</th>\n",
       "      <th>Area_Algeria</th>\n",
       "      <th>Area_Angola</th>\n",
       "      <th>Area_Argentina</th>\n",
       "      <th>Area_Armenia</th>\n",
       "      <th>Area_Australia</th>\n",
       "      <th>...</th>\n",
       "      <th>Item_Cassava</th>\n",
       "      <th>Item_Maize</th>\n",
       "      <th>Item_Plantains and others</th>\n",
       "      <th>Item_Potatoes</th>\n",
       "      <th>Item_Rice, paddy</th>\n",
       "      <th>Item_Sorghum</th>\n",
       "      <th>Item_Soybeans</th>\n",
       "      <th>Item_Sweet potatoes</th>\n",
       "      <th>Item_Wheat</th>\n",
       "      <th>Item_Yams</th>\n",
       "    </tr>\n",
       "  </thead>\n",
       "  <tbody>\n",
       "    <tr>\n",
       "      <th>0</th>\n",
       "      <td>1990</td>\n",
       "      <td>1485.0</td>\n",
       "      <td>121.0</td>\n",
       "      <td>16.37</td>\n",
       "      <td>1</td>\n",
       "      <td>0</td>\n",
       "      <td>0</td>\n",
       "      <td>0</td>\n",
       "      <td>0</td>\n",
       "      <td>0</td>\n",
       "      <td>...</td>\n",
       "      <td>0</td>\n",
       "      <td>1</td>\n",
       "      <td>0</td>\n",
       "      <td>0</td>\n",
       "      <td>0</td>\n",
       "      <td>0</td>\n",
       "      <td>0</td>\n",
       "      <td>0</td>\n",
       "      <td>0</td>\n",
       "      <td>0</td>\n",
       "    </tr>\n",
       "    <tr>\n",
       "      <th>1</th>\n",
       "      <td>1990</td>\n",
       "      <td>1485.0</td>\n",
       "      <td>121.0</td>\n",
       "      <td>16.37</td>\n",
       "      <td>1</td>\n",
       "      <td>0</td>\n",
       "      <td>0</td>\n",
       "      <td>0</td>\n",
       "      <td>0</td>\n",
       "      <td>0</td>\n",
       "      <td>...</td>\n",
       "      <td>0</td>\n",
       "      <td>0</td>\n",
       "      <td>0</td>\n",
       "      <td>1</td>\n",
       "      <td>0</td>\n",
       "      <td>0</td>\n",
       "      <td>0</td>\n",
       "      <td>0</td>\n",
       "      <td>0</td>\n",
       "      <td>0</td>\n",
       "    </tr>\n",
       "    <tr>\n",
       "      <th>2</th>\n",
       "      <td>1990</td>\n",
       "      <td>1485.0</td>\n",
       "      <td>121.0</td>\n",
       "      <td>16.37</td>\n",
       "      <td>1</td>\n",
       "      <td>0</td>\n",
       "      <td>0</td>\n",
       "      <td>0</td>\n",
       "      <td>0</td>\n",
       "      <td>0</td>\n",
       "      <td>...</td>\n",
       "      <td>0</td>\n",
       "      <td>0</td>\n",
       "      <td>0</td>\n",
       "      <td>0</td>\n",
       "      <td>1</td>\n",
       "      <td>0</td>\n",
       "      <td>0</td>\n",
       "      <td>0</td>\n",
       "      <td>0</td>\n",
       "      <td>0</td>\n",
       "    </tr>\n",
       "    <tr>\n",
       "      <th>3</th>\n",
       "      <td>1990</td>\n",
       "      <td>1485.0</td>\n",
       "      <td>121.0</td>\n",
       "      <td>16.37</td>\n",
       "      <td>1</td>\n",
       "      <td>0</td>\n",
       "      <td>0</td>\n",
       "      <td>0</td>\n",
       "      <td>0</td>\n",
       "      <td>0</td>\n",
       "      <td>...</td>\n",
       "      <td>0</td>\n",
       "      <td>0</td>\n",
       "      <td>0</td>\n",
       "      <td>0</td>\n",
       "      <td>0</td>\n",
       "      <td>1</td>\n",
       "      <td>0</td>\n",
       "      <td>0</td>\n",
       "      <td>0</td>\n",
       "      <td>0</td>\n",
       "    </tr>\n",
       "    <tr>\n",
       "      <th>4</th>\n",
       "      <td>1990</td>\n",
       "      <td>1485.0</td>\n",
       "      <td>121.0</td>\n",
       "      <td>16.37</td>\n",
       "      <td>1</td>\n",
       "      <td>0</td>\n",
       "      <td>0</td>\n",
       "      <td>0</td>\n",
       "      <td>0</td>\n",
       "      <td>0</td>\n",
       "      <td>...</td>\n",
       "      <td>0</td>\n",
       "      <td>0</td>\n",
       "      <td>0</td>\n",
       "      <td>0</td>\n",
       "      <td>0</td>\n",
       "      <td>0</td>\n",
       "      <td>1</td>\n",
       "      <td>0</td>\n",
       "      <td>0</td>\n",
       "      <td>0</td>\n",
       "    </tr>\n",
       "  </tbody>\n",
       "</table>\n",
       "<p>5 rows × 115 columns</p>\n",
       "</div>"
      ],
      "text/plain": [
       "   Year  Rainfall  Pesticides  Temperature  Area_Albania  Area_Algeria  \\\n",
       "0  1990    1485.0       121.0        16.37             1             0   \n",
       "1  1990    1485.0       121.0        16.37             1             0   \n",
       "2  1990    1485.0       121.0        16.37             1             0   \n",
       "3  1990    1485.0       121.0        16.37             1             0   \n",
       "4  1990    1485.0       121.0        16.37             1             0   \n",
       "\n",
       "   Area_Angola  Area_Argentina  Area_Armenia  Area_Australia  ...  \\\n",
       "0            0               0             0               0  ...   \n",
       "1            0               0             0               0  ...   \n",
       "2            0               0             0               0  ...   \n",
       "3            0               0             0               0  ...   \n",
       "4            0               0             0               0  ...   \n",
       "\n",
       "   Item_Cassava  Item_Maize  Item_Plantains and others  Item_Potatoes  \\\n",
       "0             0           1                          0              0   \n",
       "1             0           0                          0              1   \n",
       "2             0           0                          0              0   \n",
       "3             0           0                          0              0   \n",
       "4             0           0                          0              0   \n",
       "\n",
       "   Item_Rice, paddy  Item_Sorghum  Item_Soybeans  Item_Sweet potatoes  \\\n",
       "0                 0             0              0                    0   \n",
       "1                 0             0              0                    0   \n",
       "2                 1             0              0                    0   \n",
       "3                 0             1              0                    0   \n",
       "4                 0             0              1                    0   \n",
       "\n",
       "   Item_Wheat  Item_Yams  \n",
       "0           0          0  \n",
       "1           0          0  \n",
       "2           0          0  \n",
       "3           0          0  \n",
       "4           0          0  \n",
       "\n",
       "[5 rows x 115 columns]"
      ]
     },
     "execution_count": 14,
     "metadata": {},
     "output_type": "execute_result"
    }
   ],
   "source": [
    "yield_d = pd.get_dummies(yield_data, columns=['Area','Item'], prefix = ['Area','Item'])\n",
    "final_data=yield_d.loc[:, yield_d.columns != 'Yield']\n",
    "label=yield_data['Yield']\n",
    "final_data.head()"
   ]
  },
  {
   "cell_type": "code",
   "execution_count": 15,
   "id": "1af732d6",
   "metadata": {},
   "outputs": [
    {
     "data": {
      "text/plain": [
       "<AxesSubplot:xlabel='Year', ylabel='Yield'>"
      ]
     },
     "execution_count": 15,
     "metadata": {},
     "output_type": "execute_result"
    },
    {
     "data": {
      "image/png": "[encoded data removed]",
      "text/plain": [
       "<Figure size 432x288 with 1 Axes>"
      ]
     },
     "metadata": {
      "needs_background": "light"
     },
     "output_type": "display_data"
    }
   ],
   "source": [
    "yield_data.plot(kind=\"scatter\", x=\"Year\", y=\"Yield\", alpha=1)"
   ]
  },
  {
   "cell_type": "code",
   "execution_count": 16,
   "id": "a027b2d7",
   "metadata": {},
   "outputs": [
    {
     "data": {
      "text/plain": [
       "<AxesSubplot:xlabel='Item', ylabel='Yield'>"
      ]
     },
     "execution_count": 16,
     "metadata": {},
     "output_type": "execute_result"
    },
    {
     "data": {
      "image/png": "[encoded data removed]",
      "text/plain": [
       "<Figure size 1152x432 with 1 Axes>"
      ]
     },
     "metadata": {
      "needs_background": "light"
     },
     "output_type": "display_data"
    }
   ],
   "source": [
    "yield_data.plot(figsize=(16,6),x='Item',y='Yield',kind=\"scatter\")"
   ]
  },
  {
   "cell_type": "code",
   "execution_count": 17,
   "id": "14c25e2e",
   "metadata": {},
   "outputs": [
    {
     "data": {
      "text/plain": [
       "<AxesSubplot:xlabel='Rainfall', ylabel='Yield'>"
      ]
     },
     "execution_count": 17,
     "metadata": {},
     "output_type": "execute_result"
    },
    {
     "data": {
      "image/png": "[encoded data removed]",
      "text/plain": [
       "<Figure size 1080x432 with 1 Axes>"
      ]
     },
     "metadata": {
      "needs_background": "light"
     },
     "output_type": "display_data"
    }
   ],
   "source": [
    "yield_data.plot(kind=\"scatter\", x=\"Rainfall\", y=\"Yield\", alpha=1, figsize=(15,6))"
   ]
  },
  {
   "cell_type": "code",
   "execution_count": 18,
   "id": "135678bf",
   "metadata": {},
   "outputs": [
    {
     "data": {
      "text/plain": [
       "<AxesSubplot:xlabel='Pesticides', ylabel='Yield'>"
      ]
     },
     "execution_count": 18,
     "metadata": {},
     "output_type": "execute_result"
    },
    {
     "data": {
      "image/png": "[encoded data removed]",
      "text/plain": [
       "<Figure size 1080x432 with 1 Axes>"
      ]
     },
     "metadata": {
      "needs_background": "light"
     },
     "output_type": "display_data"
    }
   ],
   "source": [
    "yield_data.plot(kind=\"scatter\", x=\"Pesticides\", y=\"Yield\", alpha=1, figsize=(15,6))"
   ]
  },
  {
   "cell_type": "code",
   "execution_count": 19,
   "id": "58cfca81",
   "metadata": {},
   "outputs": [],
   "source": [
    "new_correlation = yield_data.corr()"
   ]
  },
  {
   "cell_type": "code",
   "execution_count": 20,
   "id": "cf19ce10",
   "metadata": {},
   "outputs": [
    {
     "data": {
      "text/plain": [
       "<AxesSubplot:>"
      ]
     },
     "execution_count": 20,
     "metadata": {},
     "output_type": "execute_result"
    },
    {
     "data": {
      "image/png": "[encoded data removed]",
      "text/plain": [
       "<Figure size 432x288 with 2 Axes>"
      ]
     },
     "metadata": {
      "needs_background": "light"
     },
     "output_type": "display_data"
    }
   ],
   "source": [
    "sns.heatmap(new_correlation, annot=True, square=True, linewidths=1)"
   ]
  },
  {
   "cell_type": "code",
   "execution_count": 21,
   "id": "329b039f",
   "metadata": {},
   "outputs": [
    {
     "data": {
      "text/html": [
       "<div>\n",
       "<style scoped>\n",
       "    .dataframe tbody tr th:only-of-type {\n",
       "        vertical-align: middle;\n",
       "    }\n",
       "\n",
       "    .dataframe tbody tr th {\n",
       "        vertical-align: top;\n",
       "    }\n",
       "\n",
       "    .dataframe thead th {\n",
       "        text-align: right;\n",
       "    }\n",
       "</style>\n",
       "<table border=\"1\" class=\"dataframe\">\n",
       "  <thead>\n",
       "    <tr style=\"text-align: right;\">\n",
       "      <th></th>\n",
       "      <th>Year</th>\n",
       "      <th>Rainfall</th>\n",
       "      <th>Pesticides</th>\n",
       "      <th>Temperature</th>\n",
       "      <th>Area_Albania</th>\n",
       "      <th>Area_Algeria</th>\n",
       "      <th>Area_Angola</th>\n",
       "      <th>Area_Argentina</th>\n",
       "      <th>Area_Armenia</th>\n",
       "      <th>Area_Australia</th>\n",
       "      <th>...</th>\n",
       "      <th>Item_Cassava</th>\n",
       "      <th>Item_Maize</th>\n",
       "      <th>Item_Plantains and others</th>\n",
       "      <th>Item_Potatoes</th>\n",
       "      <th>Item_Rice, paddy</th>\n",
       "      <th>Item_Sorghum</th>\n",
       "      <th>Item_Soybeans</th>\n",
       "      <th>Item_Sweet potatoes</th>\n",
       "      <th>Item_Wheat</th>\n",
       "      <th>Item_Yams</th>\n",
       "    </tr>\n",
       "  </thead>\n",
       "  <tbody>\n",
       "    <tr>\n",
       "      <th>0</th>\n",
       "      <td>1990</td>\n",
       "      <td>1485.0</td>\n",
       "      <td>121.0</td>\n",
       "      <td>16.37</td>\n",
       "      <td>1</td>\n",
       "      <td>0</td>\n",
       "      <td>0</td>\n",
       "      <td>0</td>\n",
       "      <td>0</td>\n",
       "      <td>0</td>\n",
       "      <td>...</td>\n",
       "      <td>0</td>\n",
       "      <td>1</td>\n",
       "      <td>0</td>\n",
       "      <td>0</td>\n",
       "      <td>0</td>\n",
       "      <td>0</td>\n",
       "      <td>0</td>\n",
       "      <td>0</td>\n",
       "      <td>0</td>\n",
       "      <td>0</td>\n",
       "    </tr>\n",
       "    <tr>\n",
       "      <th>1</th>\n",
       "      <td>1990</td>\n",
       "      <td>1485.0</td>\n",
       "      <td>121.0</td>\n",
       "      <td>16.37</td>\n",
       "      <td>1</td>\n",
       "      <td>0</td>\n",
       "      <td>0</td>\n",
       "      <td>0</td>\n",
       "      <td>0</td>\n",
       "      <td>0</td>\n",
       "      <td>...</td>\n",
       "      <td>0</td>\n",
       "      <td>0</td>\n",
       "      <td>0</td>\n",
       "      <td>1</td>\n",
       "      <td>0</td>\n",
       "      <td>0</td>\n",
       "      <td>0</td>\n",
       "      <td>0</td>\n",
       "      <td>0</td>\n",
       "      <td>0</td>\n",
       "    </tr>\n",
       "    <tr>\n",
       "      <th>2</th>\n",
       "      <td>1990</td>\n",
       "      <td>1485.0</td>\n",
       "      <td>121.0</td>\n",
       "      <td>16.37</td>\n",
       "      <td>1</td>\n",
       "      <td>0</td>\n",
       "      <td>0</td>\n",
       "      <td>0</td>\n",
       "      <td>0</td>\n",
       "      <td>0</td>\n",
       "      <td>...</td>\n",
       "      <td>0</td>\n",
       "      <td>0</td>\n",
       "      <td>0</td>\n",
       "      <td>0</td>\n",
       "      <td>1</td>\n",
       "      <td>0</td>\n",
       "      <td>0</td>\n",
       "      <td>0</td>\n",
       "      <td>0</td>\n",
       "      <td>0</td>\n",
       "    </tr>\n",
       "    <tr>\n",
       "      <th>3</th>\n",
       "      <td>1990</td>\n",
       "      <td>1485.0</td>\n",
       "      <td>121.0</td>\n",
       "      <td>16.37</td>\n",
       "      <td>1</td>\n",
       "      <td>0</td>\n",
       "      <td>0</td>\n",
       "      <td>0</td>\n",
       "      <td>0</td>\n",
       "      <td>0</td>\n",
       "      <td>...</td>\n",
       "      <td>0</td>\n",
       "      <td>0</td>\n",
       "      <td>0</td>\n",
       "      <td>0</td>\n",
       "      <td>0</td>\n",
       "      <td>1</td>\n",
       "      <td>0</td>\n",
       "      <td>0</td>\n",
       "      <td>0</td>\n",
       "      <td>0</td>\n",
       "    </tr>\n",
       "    <tr>\n",
       "      <th>4</th>\n",
       "      <td>1990</td>\n",
       "      <td>1485.0</td>\n",
       "      <td>121.0</td>\n",
       "      <td>16.37</td>\n",
       "      <td>1</td>\n",
       "      <td>0</td>\n",
       "      <td>0</td>\n",
       "      <td>0</td>\n",
       "      <td>0</td>\n",
       "      <td>0</td>\n",
       "      <td>...</td>\n",
       "      <td>0</td>\n",
       "      <td>0</td>\n",
       "      <td>0</td>\n",
       "      <td>0</td>\n",
       "      <td>0</td>\n",
       "      <td>0</td>\n",
       "      <td>1</td>\n",
       "      <td>0</td>\n",
       "      <td>0</td>\n",
       "      <td>0</td>\n",
       "    </tr>\n",
       "  </tbody>\n",
       "</table>\n",
       "<p>5 rows × 115 columns</p>\n",
       "</div>"
      ],
      "text/plain": [
       "   Year  Rainfall  Pesticides  Temperature  Area_Albania  Area_Algeria  \\\n",
       "0  1990    1485.0       121.0        16.37             1             0   \n",
       "1  1990    1485.0       121.0        16.37             1             0   \n",
       "2  1990    1485.0       121.0        16.37             1             0   \n",
       "3  1990    1485.0       121.0        16.37             1             0   \n",
       "4  1990    1485.0       121.0        16.37             1             0   \n",
       "\n",
       "   Area_Angola  Area_Argentina  Area_Armenia  Area_Australia  ...  \\\n",
       "0            0               0             0               0  ...   \n",
       "1            0               0             0               0  ...   \n",
       "2            0               0             0               0  ...   \n",
       "3            0               0             0               0  ...   \n",
       "4            0               0             0               0  ...   \n",
       "\n",
       "   Item_Cassava  Item_Maize  Item_Plantains and others  Item_Potatoes  \\\n",
       "0             0           1                          0              0   \n",
       "1             0           0                          0              1   \n",
       "2             0           0                          0              0   \n",
       "3             0           0                          0              0   \n",
       "4             0           0                          0              0   \n",
       "\n",
       "   Item_Rice, paddy  Item_Sorghum  Item_Soybeans  Item_Sweet potatoes  \\\n",
       "0                 0             0              0                    0   \n",
       "1                 0             0              0                    0   \n",
       "2                 1             0              0                    0   \n",
       "3                 0             1              0                    0   \n",
       "4                 0             0              1                    0   \n",
       "\n",
       "   Item_Wheat  Item_Yams  \n",
       "0           0          0  \n",
       "1           0          0  \n",
       "2           0          0  \n",
       "3           0          0  \n",
       "4           0          0  \n",
       "\n",
       "[5 rows x 115 columns]"
      ]
     },
     "execution_count": 21,
     "metadata": {},
     "output_type": "execute_result"
    }
   ],
   "source": [
    "final_data.head()"
   ]
  },
  {
   "cell_type": "code",
   "execution_count": 22,
   "id": "939385e5",
   "metadata": {},
   "outputs": [],
   "source": [
    "year = yield_data['Year']\n",
    "yield_data = yield_data.drop(['Year'],axis=1)"
   ]
  },
  {
   "cell_type": "markdown",
   "id": "34f8047a",
   "metadata": {},
   "source": [
    "## Scaling the data"
   ]
  },
  {
   "cell_type": "code",
   "execution_count": 23,
   "id": "7ef0fbfe",
   "metadata": {},
   "outputs": [],
   "source": [
    "from sklearn.preprocessing import MinMaxScaler\n",
    "scaler = MinMaxScaler()\n",
    "s_data = scaler.fit_transform(final_data)"
   ]
  },
  {
   "cell_type": "code",
   "execution_count": 24,
   "id": "89353243",
   "metadata": {},
   "outputs": [
    {
     "data": {
      "text/plain": [
       "array([[0.00000000e+00, 4.49670743e-01, 3.28894097e-04, ...,\n",
       "        0.00000000e+00, 0.00000000e+00, 0.00000000e+00],\n",
       "       [0.00000000e+00, 4.49670743e-01, 3.28894097e-04, ...,\n",
       "        0.00000000e+00, 0.00000000e+00, 0.00000000e+00],\n",
       "       [0.00000000e+00, 4.49670743e-01, 3.28894097e-04, ...,\n",
       "        0.00000000e+00, 0.00000000e+00, 0.00000000e+00],\n",
       "       ...,\n",
       "       [1.00000000e+00, 1.90028222e-01, 6.93361288e-03, ...,\n",
       "        0.00000000e+00, 0.00000000e+00, 0.00000000e+00],\n",
       "       [1.00000000e+00, 1.90028222e-01, 6.93361288e-03, ...,\n",
       "        1.00000000e+00, 0.00000000e+00, 0.00000000e+00],\n",
       "       [1.00000000e+00, 1.90028222e-01, 6.93361288e-03, ...,\n",
       "        0.00000000e+00, 1.00000000e+00, 0.00000000e+00]])"
      ]
     },
     "execution_count": 24,
     "metadata": {},
     "output_type": "execute_result"
    }
   ],
   "source": [
    "s_data"
   ]
  },
  {
   "cell_type": "markdown",
   "id": "68a61bdb",
   "metadata": {},
   "source": [
    "## Training data"
   ]
  },
  {
   "cell_type": "code",
   "execution_count": 25,
   "id": "982696ed",
   "metadata": {},
   "outputs": [],
   "source": [
    "from sklearn.model_selection import train_test_split\n",
    "x_train, x_test, y_train, y_test = train_test_split(s_data, label, test_size=0.2, random_state=42)"
   ]
  },
  {
   "cell_type": "code",
   "execution_count": 26,
   "id": "766a3260",
   "metadata": {},
   "outputs": [],
   "source": [
    "from sklearn.ensemble import GradientBoostingRegressor\n",
    "from sklearn.tree import DecisionTreeRegressor"
   ]
  },
  {
   "cell_type": "markdown",
   "id": "3a183c90",
   "metadata": {},
   "source": [
    "## Choosing a proper model\n",
    "\n"
   ]
  },
  {
   "cell_type": "code",
   "execution_count": 27,
   "id": "2bace12b",
   "metadata": {},
   "outputs": [],
   "source": [
    "model_1 = GradientBoostingRegressor(n_estimators=200, random_state=42)"
   ]
  },
  {
   "cell_type": "code",
   "execution_count": 28,
   "id": "d8ec2756",
   "metadata": {},
   "outputs": [
    {
     "data": {
      "text/plain": [
       "GradientBoostingRegressor(n_estimators=200, random_state=42)"
      ]
     },
     "execution_count": 28,
     "metadata": {},
     "output_type": "execute_result"
    }
   ],
   "source": [
    "model_1.fit(x_train, y_train)"
   ]
  },
  {
   "cell_type": "code",
   "execution_count": 29,
   "id": "9b1859db",
   "metadata": {},
   "outputs": [],
   "source": [
    "from sklearn.metrics import mean_squared_error\n",
    "pred_1 = model_1.predict(x_train)\n",
    "mse = mean_squared_error(y_train, pred_1)\n",
    "rmse = np.sqrt(mse)"
   ]
  },
  {
   "cell_type": "code",
   "execution_count": 30,
   "id": "b074de90",
   "metadata": {},
   "outputs": [],
   "source": [
    "from sklearn.metrics import r2_score"
   ]
  },
  {
   "cell_type": "code",
   "execution_count": 31,
   "id": "3a3bb5b4",
   "metadata": {},
   "outputs": [
    {
     "data": {
      "text/plain": [
       "0.9079037438842649"
      ]
     },
     "execution_count": 31,
     "metadata": {},
     "output_type": "execute_result"
    }
   ],
   "source": [
    "r2_score(y_train, pred_1)"
   ]
  },
  {
   "cell_type": "code",
   "execution_count": 32,
   "id": "fbddbafa",
   "metadata": {},
   "outputs": [],
   "source": [
    "model_2 = DecisionTreeRegressor(max_depth=10)"
   ]
  },
  {
   "cell_type": "code",
   "execution_count": 33,
   "id": "24335803",
   "metadata": {},
   "outputs": [
    {
     "data": {
      "text/plain": [
       "DecisionTreeRegressor(max_depth=10)"
      ]
     },
     "execution_count": 33,
     "metadata": {},
     "output_type": "execute_result"
    }
   ],
   "source": [
    "model_2.fit(x_train, y_train)"
   ]
  },
  {
   "cell_type": "code",
   "execution_count": 34,
   "id": "4c78e948",
   "metadata": {},
   "outputs": [
    {
     "data": {
      "text/plain": [
       "0.942324523332976"
      ]
     },
     "execution_count": 34,
     "metadata": {},
     "output_type": "execute_result"
    }
   ],
   "source": [
    "pred_2 = model_2.predict(x_train)\n",
    "r2_score(y_train,pred_2)"
   ]
  },
  {
   "cell_type": "code",
   "execution_count": 35,
   "id": "df170346",
   "metadata": {},
   "outputs": [],
   "source": [
    "train_losses = []\n",
    "val_losses = []"
   ]
  },
  {
   "cell_type": "code",
   "execution_count": 36,
   "id": "ea2e41b9",
   "metadata": {},
   "outputs": [],
   "source": [
    "train_loss = mean_squared_error(y_train, pred_2)"
   ]
  },
  {
   "cell_type": "code",
   "execution_count": 37,
   "id": "73412e76",
   "metadata": {},
   "outputs": [
    {
     "data": {
      "text/plain": [
       "415741787.71032214"
      ]
     },
     "execution_count": 37,
     "metadata": {},
     "output_type": "execute_result"
    }
   ],
   "source": [
    "train_loss"
   ]
  },
  {
   "cell_type": "markdown",
   "id": "a8e753f0",
   "metadata": {},
   "source": [
    "# grid search to find optimal depth\n",
    "\n",
    "from sklearn.model_selection import GridSearchCV\n",
    "\n",
    "#Define the grid of hyperparameters to search over\n",
    "param_grid = {'max_depth': np.arange(1, 11)}\n",
    "\n",
    "#Create a grid search object with 5-fold cross-validation\n",
    "grid_search = GridSearchCV(model_2, param_grid, cv=5, scoring='r2')\n",
    "\n",
    "#Fit the grid search object to the data\n",
    "grid_search.fit(x_train, y_train)\n",
    "\n",
    "#Print the best value of max_depth and the corresponding R2 score\n",
    "print(\"Best value of max_depth:\", grid_search.best_params_['max_depth'])\n",
    "print(\"Best R2 score:\", grid_search.best_score_)"
   ]
  },
  {
   "cell_type": "code",
   "execution_count": 52,
   "id": "0d8a4e8b",
   "metadata": {},
   "outputs": [],
   "source": [
    "from sklearn.neural_network import MLPRegressor\n",
    "model_mlp = MLPRegressor(hidden_layer_sizes=(100, 100, 100), activation='relu', solver='adam',\n",
    "                    alpha=0.0001, learning_rate='constant',\n",
    "                    learning_rate_init=0.001, max_iter=200, shuffle=True,\n",
    "                    random_state=0)"
   ]
  },
  {
   "cell_type": "code",
   "execution_count": 53,
   "id": "8e85a42f",
   "metadata": {},
   "outputs": [
    {
     "name": "stderr",
     "output_type": "stream",
     "text": [
      "C:\\Users\\mohit\\anaconda\\lib\\site-packages\\sklearn\\neural_network\\_multilayer_perceptron.py:614: ConvergenceWarning: Stochastic Optimizer: Maximum iterations (200) reached and the optimization hasn't converged yet.\n",
      "  warnings.warn(\n"
     ]
    },
    {
     "data": {
      "text/plain": [
       "MLPRegressor(hidden_layer_sizes=(100, 100, 100), random_state=0)"
      ]
     },
     "execution_count": 53,
     "metadata": {},
     "output_type": "execute_result"
    }
   ],
   "source": [
    "model_mlp.fit(x_train, y_train)"
   ]
  },
  {
   "cell_type": "code",
   "execution_count": 54,
   "id": "250804c1",
   "metadata": {},
   "outputs": [],
   "source": [
    "pred_mlp = model_mlp.predict(x_train)"
   ]
  },
  {
   "cell_type": "code",
   "execution_count": 55,
   "id": "aee40676",
   "metadata": {},
   "outputs": [
    {
     "data": {
      "text/plain": [
       "0.9870723617875438"
      ]
     },
     "execution_count": 55,
     "metadata": {},
     "output_type": "execute_result"
    }
   ],
   "source": [
    "r2_score(y_train, pred_mlp)"
   ]
  },
  {
   "cell_type": "code",
   "execution_count": 56,
   "id": "5a0d703a",
   "metadata": {},
   "outputs": [],
   "source": [
    "from joblib import dump, load"
   ]
  },
  {
   "cell_type": "code",
   "execution_count": 57,
   "id": "5fb0b273",
   "metadata": {},
   "outputs": [
    {
     "data": {
      "text/plain": [
       "['MLP.joblib']"
      ]
     },
     "execution_count": 57,
     "metadata": {},
     "output_type": "execute_result"
    }
   ],
   "source": [
    "dump(model_mlp,'MLP.joblib')"
   ]
  },
  {
   "cell_type": "markdown",
   "id": "4c25e58f",
   "metadata": {},
   "source": [
    "# Testing our model"
   ]
  },
  {
   "cell_type": "code",
   "execution_count": 58,
   "id": "ab0b78cb",
   "metadata": {},
   "outputs": [],
   "source": [
    "test_pred = model_mlp.predict(x_test)"
   ]
  },
  {
   "cell_type": "code",
   "execution_count": 59,
   "id": "fce748c6",
   "metadata": {},
   "outputs": [
    {
     "data": {
      "text/plain": [
       "0.9826152034292865"
      ]
     },
     "execution_count": 59,
     "metadata": {},
     "output_type": "execute_result"
    }
   ],
   "source": [
    "r2_score(y_test, test_pred)"
   ]
  },
  {
   "cell_type": "markdown",
   "id": "e620bfcf",
   "metadata": {},
   "source": [
    "As testes above, MLPregressor was the most optimum model for our dataset and it is also doing well for our test dataset"
   ]
  },
  {
   "cell_type": "markdown",
   "id": "4d6f6b9b",
   "metadata": {},
   "source": [
    "Out of Gradient Boosting Regressor, Decision Tree and Multi_Layer Perceptron Regressor\n",
    "##### MLPRegressor is performing best."
   ]
  }
 ],
 "metadata": {
  "kernelspec": {
   "display_name": "Python 3 (ipykernel)",
   "language": "python",
   "name": "python3"
  },
  "language_info": {
   "codemirror_mode": {
    "name": "ipython",
    "version": 3
   },
   "file_extension": ".py",
   "mimetype": "text/x-python",
   "name": "python",
   "nbconvert_exporter": "python",
   "pygments_lexer": "ipython3",
   "version": "3.9.7"
  }
 },
 "nbformat": 4,
 "nbformat_minor": 5
}
